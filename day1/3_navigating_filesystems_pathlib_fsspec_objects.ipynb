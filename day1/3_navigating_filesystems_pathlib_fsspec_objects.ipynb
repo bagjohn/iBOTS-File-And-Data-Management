{
 "cells": [
  {
   "cell_type": "markdown",
   "metadata": {},
   "source": [
    "# Navigating the Filesystem\n",
    "\n",
    "Let's delve into the essential skills of navigating and managing files and directories, a fundamental aspect of handling experimental data in neuroscience research. We will explore various commands and techniques to efficiently organize and access your experimental data, ensuring seamless integration into your analysis workflow."
   ]
  },
  {
   "cell_type": "markdown",
   "metadata": {},
   "source": [
    "Run the Following Code to Get the Data for this Notebook:"
   ]
  },
  {
   "cell_type": "code",
   "execution_count": 12,
   "metadata": {},
   "outputs": [],
   "source": [
    "from pathlib import Path\n",
    "paths = [\n",
    "    \"data/exp1/joey_2021-05-01_001/spikes.npy\", \n",
    "    \"data/exp1/joey_2021-05-02_001/spikes.npy\", \n",
    "    \"data/exp1/joey_2021-05-02_001/lfps.h5\", \n",
    "    \"data/exp1/phoebe_2021-05-02_001/spikes.npy\",\n",
    "    \"data/exp1/phoebe_2021-05-03_001/spikes.npy\", \n",
    "    \"data/exp1/phoebe_2021-05-03_001/lfps.h5\", \n",
    "    \"data/exp1/phoebe_2021-05-04_001/spikes.npy\",\n",
    "]\n",
    "\n",
    "for path in paths:\n",
    "    path = Path(path)\n",
    "    path.parent.mkdir(exist_ok=True, parents=True)\n",
    "    path.touch()"
   ]
  },
  {
   "cell_type": "markdown",
   "metadata": {},
   "source": [
    "## Using the pathlib library\n",
    "\n",
    "The pathlib module in Python introduces an object-oriented approach to file system paths--. This section is designed to familiarize you with this powerful library, enhancing your ability to handle file paths and directories with more flexibility and intuitiveness. We'll cover basic operations like listing directories, globbing for pattern matching, and more, all through the lens of object-oriented programming.\n",
    "\n",
    "| Command | Purpose |\n",
    "| :-- | :-- |\n",
    "| `from pathlib import Path` | | \n",
    "| `Path('.').resolve()` | Gets the current working directory. |\n",
    "| `path = Path('./data')` | Make a `Path` object located in the data folder of the working directory. |\n",
    "| `list(path.iterdir())` | List all the files and folders in the specified path |\n",
    "| `new_path = path.joinpath(\"raw\")` | Append the \"/raw\" folder to the current path |\n",
    "| `new_path = path / \"raw\"` | Also append the \"/raw\" folder to the current path. |\n",
    "| `glob.glob('*.h5')` | Search for files that end in \".h5\" in the current path. |\n",
    "| `glob.glob('data*')` | Search for files that start with \"data\" in the current path. |\n",
    "| `glob.glob('./**/data*')` | Search for files that start with \"data\" in the any subfolder in the current path. |\n"
   ]
  },
  {
   "cell_type": "code",
   "execution_count": 13,
   "metadata": {},
   "outputs": [],
   "source": [
    "from pathlib import Path"
   ]
  },
  {
   "cell_type": "markdown",
   "metadata": {},
   "source": [
    "What is the current working directory?"
   ]
  },
  {
   "cell_type": "code",
   "execution_count": 18,
   "metadata": {},
   "outputs": [
    {
     "data": {
      "text/plain": [
       "PosixPath('.')"
      ]
     },
     "execution_count": 18,
     "metadata": {},
     "output_type": "execute_result"
    }
   ],
   "source": [
    "#Path.cwd()\n",
    "Path('.')"
   ]
  },
  {
   "cell_type": "markdown",
   "metadata": {},
   "source": [
    "What files and folders are inside the current working directory?"
   ]
  },
  {
   "cell_type": "code",
   "execution_count": 21,
   "metadata": {},
   "outputs": [
    {
     "data": {
      "text/plain": [
       "[PosixPath('/home/panos/Science/git_repos/iBOTS-File-And-Data-Management/day1/1_organizing-data-into-dictionaries.ipynb'),\n",
       " PosixPath('/home/panos/Science/git_repos/iBOTS-File-And-Data-Management/day1/3_navigating_filesystems_pathlib_fsspec_objects.ipynb'),\n",
       " PosixPath('/home/panos/Science/git_repos/iBOTS-File-And-Data-Management/day1/data'),\n",
       " PosixPath('/home/panos/Science/git_repos/iBOTS-File-And-Data-Management/day1/4_webdav_sciebo.ipynb'),\n",
       " PosixPath('/home/panos/Science/git_repos/iBOTS-File-And-Data-Management/day1/2_parsing_metadata_from_filenames.ipynb')]"
      ]
     },
     "execution_count": 21,
     "metadata": {},
     "output_type": "execute_result"
    }
   ],
   "source": [
    "list(Path('.').resolve().iterdir())\n",
    "#Path('.').iterdir()"
   ]
  },
  {
   "cell_type": "markdown",
   "metadata": {},
   "source": [
    "What Files and folders are inside the \"data\" directory?"
   ]
  },
  {
   "cell_type": "code",
   "execution_count": 23,
   "metadata": {},
   "outputs": [
    {
     "data": {
      "text/plain": [
       "[PosixPath('data/exp1')]"
      ]
     },
     "execution_count": 23,
     "metadata": {},
     "output_type": "execute_result"
    }
   ],
   "source": [
    "list(Path('./data').iterdir())"
   ]
  },
  {
   "cell_type": "markdown",
   "metadata": {},
   "source": [
    "What Files and Folders are inside the \"exp1\" directory, inside the \"data\" directory?"
   ]
  },
  {
   "cell_type": "code",
   "execution_count": 24,
   "metadata": {},
   "outputs": [
    {
     "data": {
      "text/plain": [
       "[PosixPath('data/exp1/joey_2021-05-02_001'),\n",
       " PosixPath('data/exp1/phoebe_2021-05-03_001'),\n",
       " PosixPath('data/exp1/phoebe_2021-05-04_001'),\n",
       " PosixPath('data/exp1/phoebe_2021-05-02_001'),\n",
       " PosixPath('data/exp1/joey_2021-05-01_001')]"
      ]
     },
     "execution_count": 24,
     "metadata": {},
     "output_type": "execute_result"
    }
   ],
   "source": [
    "list(Path('./data/exp1').iterdir())"
   ]
  },
  {
   "cell_type": "markdown",
   "metadata": {},
   "source": [
    "What folders in exp1 start with the subject \"phoebe\" (Hint: use Path().glob())?"
   ]
  },
  {
   "cell_type": "code",
   "execution_count": 27,
   "metadata": {},
   "outputs": [
    {
     "data": {
      "text/plain": [
       "[PosixPath('data/exp1/phoebe_2021-05-03_001'),\n",
       " PosixPath('data/exp1/phoebe_2021-05-04_001'),\n",
       " PosixPath('data/exp1/phoebe_2021-05-02_001')]"
      ]
     },
     "execution_count": 27,
     "metadata": {},
     "output_type": "execute_result"
    }
   ],
   "source": [
    "list(Path('./data/exp1').glob('phoebe*'))"
   ]
  },
  {
   "cell_type": "markdown",
   "metadata": {},
   "source": [
    "What folders in exp1 start with the subject \"joey\"?"
   ]
  },
  {
   "cell_type": "code",
   "execution_count": 31,
   "metadata": {},
   "outputs": [
    {
     "data": {
      "text/plain": [
       "[PosixPath('data/exp1/joey_2021-05-02_001'),\n",
       " PosixPath('data/exp1/joey_2021-05-01_001')]"
      ]
     },
     "execution_count": 31,
     "metadata": {},
     "output_type": "execute_result"
    }
   ],
   "source": [
    "list(Path('./data/exp1').glob('joey*'))\n",
    "\n",
    "\n",
    "list(Path('./data/exp1').glob('**/joey*'))"
   ]
  },
  {
   "cell_type": "markdown",
   "metadata": {},
   "source": [
    "What folders in exp1 were recorded on the 2nd of May (hint-glob on the date part of the filename)?"
   ]
  },
  {
   "cell_type": "code",
   "execution_count": 32,
   "metadata": {},
   "outputs": [
    {
     "data": {
      "text/plain": [
       "[PosixPath('data/exp1/joey_2021-05-02_001'),\n",
       " PosixPath('data/exp1/phoebe_2021-05-02_001')]"
      ]
     },
     "execution_count": 32,
     "metadata": {},
     "output_type": "execute_result"
    }
   ],
   "source": [
    "list(Path('.').glob('**/*05-02*'))"
   ]
  },
  {
   "cell_type": "markdown",
   "metadata": {},
   "source": [
    "What files have the \".h5\" file extension (include all files in any subfolders of exp1)?"
   ]
  },
  {
   "cell_type": "code",
   "execution_count": 33,
   "metadata": {},
   "outputs": [
    {
     "data": {
      "text/plain": [
       "[PosixPath('data/exp1/joey_2021-05-02_001/lfps.h5'),\n",
       " PosixPath('data/exp1/phoebe_2021-05-03_001/lfps.h5')]"
      ]
     },
     "execution_count": 33,
     "metadata": {},
     "output_type": "execute_result"
    }
   ],
   "source": [
    "list(Path('.').glob('**/*.h5'))"
   ]
  },
  {
   "cell_type": "markdown",
   "metadata": {},
   "source": [
    "What files have the \".npy\" file extension (include all files in any subfolders of exp1)?"
   ]
  },
  {
   "cell_type": "code",
   "execution_count": 34,
   "metadata": {},
   "outputs": [
    {
     "data": {
      "text/plain": [
       "[PosixPath('data/exp1/joey_2021-05-02_001/spikes.npy'),\n",
       " PosixPath('data/exp1/phoebe_2021-05-03_001/spikes.npy'),\n",
       " PosixPath('data/exp1/phoebe_2021-05-04_001/spikes.npy'),\n",
       " PosixPath('data/exp1/phoebe_2021-05-02_001/spikes.npy'),\n",
       " PosixPath('data/exp1/joey_2021-05-01_001/spikes.npy')]"
      ]
     },
     "execution_count": 34,
     "metadata": {},
     "output_type": "execute_result"
    }
   ],
   "source": [
    "list(Path('.').glob('**/*.npy'))"
   ]
  },
  {
   "cell_type": "markdown",
   "metadata": {},
   "source": [
    "Which of phoebe's files contain lfp data?"
   ]
  },
  {
   "cell_type": "code",
   "execution_count": 39,
   "metadata": {},
   "outputs": [
    {
     "data": {
      "text/plain": [
       "[PosixPath('data/exp1/phoebe_2021-05-03_001/lfps.h5')]"
      ]
     },
     "execution_count": 39,
     "metadata": {},
     "output_type": "execute_result"
    }
   ],
   "source": [
    "fs=list(Path('./data/exp1').glob('phoebe*/*lfp*'))\n",
    "fs\n",
    "\n"
   ]
  },
  {
   "cell_type": "markdown",
   "metadata": {},
   "source": [
    "## Accessing Remote File Systems using `fsspec`: \n",
    "\n",
    "In modern neuroscience research, accessing and manipulating data stored in remote file systems is increasingly common. This section introduces fsspec, a library for interacting with various file systems, including remote and cloud-based storage. We'll explore how to list, search, and manage files on different remote systems, an invaluable skill in a data-intensive field like neuroscience.\n",
    "\n",
    "\n",
    "| Code | Description |\n",
    "| :-- | :-- |\n",
    "|`fs.ls()` | Lists all files and directories in the current directory of the filesystem. |\n",
    "| `fs.glob('*.h5')` | Searches for files matching a specified pattern (in this case, all files ending with '.h5') in the current directory and subdirectories. |\n",
    "| `fs.makedirs()` | Creates a new directory at the specified path, including any necessary intermediate directories. |\n",
    "| `fs.removedirs()` | Removes directories recursively. Deletes a directory and, if it's empty, its parent directories as well. |\n",
    "| `fs.rm()` | Removes (deletes) a file or directory. |\n",
    "| `fs.read_text()`| Reads the contents of a file and returns it as a string. |\n",
    "| `fs.read_bytes()` | Reads the contents of a file and returns it as bytes. |\n",
    "| `fs.download()`| Downloads a file from the remote filesystem to the local filesystem. |\n"
   ]
  },
  {
   "cell_type": "markdown",
   "metadata": {},
   "source": [
    "### GitHub Repos as a Remote Filesystem\n",
    "\n",
    "GitHub, a platform widely used for code sharing and collaboration, can also serve as a remote filesystem for data storage and retrieval. This section guides you through using GitHub repositories for accessing and managing data files, leveraging the `GithubFileSystem` class in `fsspec`. \n",
    "\n"
   ]
  },
  {
   "cell_type": "markdown",
   "metadata": {},
   "source": [
    "**Exercises**: Explore navigating remote GitHub filesystems using the `fsspec`'s `GithubFileSystem` class."
   ]
  },
  {
   "cell_type": "code",
   "execution_count": 6,
   "metadata": {},
   "outputs": [],
   "source": [
    "import fsspec\n",
    "from fsspec.implementations.github import GithubFileSystem"
   ]
  },
  {
   "cell_type": "markdown",
   "metadata": {},
   "source": [
    "**Example**: List all the files in the root directory of https://github.com/ibehave-ibots/iBOTS-Tools"
   ]
  },
  {
   "cell_type": "code",
   "execution_count": 18,
   "metadata": {},
   "outputs": [
    {
     "data": {
      "text/plain": [
       "[{'name': '.github',\n",
       "  'mode': '040000',\n",
       "  'type': 'directory',\n",
       "  'size': 0,\n",
       "  'sha': 'cb63ceedc5dc3576bde7c401a1bb74f85a52643d'},\n",
       " {'name': '.gitignore',\n",
       "  'mode': '100644',\n",
       "  'type': 'file',\n",
       "  'size': 133,\n",
       "  'sha': 'd64557c8b9ac3d4ff8baec424a8c48bbf7183444'},\n",
       " {'name': 'README.md',\n",
       "  'mode': '100644',\n",
       "  'type': 'file',\n",
       "  'size': 591,\n",
       "  'sha': '4de11c0e1bd3e8cf62dcb12986af03daffebac48'},\n",
       " {'name': 'learning-projects',\n",
       "  'mode': '040000',\n",
       "  'type': 'directory',\n",
       "  'size': 0,\n",
       "  'sha': 'd8d368b5f680f542fea71b48377e3a78b56c1e1a'},\n",
       " {'name': 'src',\n",
       "  'mode': '040000',\n",
       "  'type': 'directory',\n",
       "  'size': 0,\n",
       "  'sha': '370f8ae89870e02b3e9a4093c17e2e377b4671a7'},\n",
       " {'name': 'tutorials',\n",
       "  'mode': '040000',\n",
       "  'type': 'directory',\n",
       "  'size': 0,\n",
       "  'sha': '65bbb74c9943caddc7c7fde9e590de270908c375'},\n",
       " {'name': 'workshops',\n",
       "  'mode': '040000',\n",
       "  'type': 'directory',\n",
       "  'size': 0,\n",
       "  'sha': 'b7ed9feb3dd9f5cd30e7724f3695da9c0ac9cc81'}]"
      ]
     },
     "execution_count": 18,
     "metadata": {},
     "output_type": "execute_result"
    }
   ],
   "source": [
    "from fsspec.implementations.github import GithubFileSystem\n",
    "fs = GithubFileSystem(org=\"ibehave-ibots\", repo=\"iBOTS-Tools\")\n",
    "fs.listdir('')"
   ]
  },
  {
   "cell_type": "markdown",
   "metadata": {},
   "source": [
    "List all the files in the root directory of https://github.com/mwaskom/seaborn-data"
   ]
  },
  {
   "cell_type": "code",
   "execution_count": 19,
   "metadata": {},
   "outputs": [
    {
     "data": {
      "text/plain": [
       "['README.md',\n",
       " 'anagrams.csv',\n",
       " 'anscombe.csv',\n",
       " 'attention.csv',\n",
       " 'brain_networks.csv',\n",
       " 'car_crashes.csv',\n",
       " 'dataset_names.txt',\n",
       " 'diamonds.csv',\n",
       " 'dots.csv',\n",
       " 'dowjones.csv',\n",
       " 'exercise.csv',\n",
       " 'flights.csv',\n",
       " 'fmri.csv',\n",
       " 'geyser.csv',\n",
       " 'glue.csv',\n",
       " 'healthexp.csv',\n",
       " 'iris.csv',\n",
       " 'mpg.csv',\n",
       " 'penguins.csv',\n",
       " 'planets.csv',\n",
       " 'png',\n",
       " 'process',\n",
       " 'raw',\n",
       " 'seaice.csv',\n",
       " 'taxis.csv',\n",
       " 'tips.csv',\n",
       " 'titanic.csv']"
      ]
     },
     "execution_count": 19,
     "metadata": {},
     "output_type": "execute_result"
    }
   ],
   "source": [
    "fs = GithubFileSystem(org=\"mwaskom\", repo=\"seaborn-data\")\n",
    "fs.ls('')"
   ]
  },
  {
   "cell_type": "markdown",
   "metadata": {},
   "source": [
    "List all the files whose filenames start with the letter \"p\" (i.e. \"glob\" the files)"
   ]
  },
  {
   "cell_type": "code",
   "execution_count": 20,
   "metadata": {},
   "outputs": [
    {
     "data": {
      "text/plain": [
       "['penguins.csv', 'planets.csv', 'png', 'process']"
      ]
     },
     "execution_count": 20,
     "metadata": {},
     "output_type": "execute_result"
    }
   ],
   "source": [
    "fs.glob('p*')"
   ]
  },
  {
   "cell_type": "markdown",
   "metadata": {},
   "source": [
    "List all the files whose filenames end in the \"CSV\" extension."
   ]
  },
  {
   "cell_type": "code",
   "execution_count": 21,
   "metadata": {},
   "outputs": [
    {
     "data": {
      "text/plain": [
       "['anagrams.csv',\n",
       " 'anscombe.csv',\n",
       " 'attention.csv',\n",
       " 'brain_networks.csv',\n",
       " 'car_crashes.csv',\n",
       " 'diamonds.csv',\n",
       " 'dots.csv',\n",
       " 'dowjones.csv',\n",
       " 'exercise.csv',\n",
       " 'flights.csv',\n",
       " 'fmri.csv',\n",
       " 'geyser.csv',\n",
       " 'glue.csv',\n",
       " 'healthexp.csv',\n",
       " 'iris.csv',\n",
       " 'mpg.csv',\n",
       " 'penguins.csv',\n",
       " 'planets.csv',\n",
       " 'seaice.csv',\n",
       " 'taxis.csv',\n",
       " 'tips.csv',\n",
       " 'titanic.csv']"
      ]
     },
     "execution_count": 21,
     "metadata": {},
     "output_type": "execute_result"
    }
   ],
   "source": [
    "fs.glob('*.csv')"
   ]
  },
  {
   "cell_type": "markdown",
   "metadata": {},
   "source": [
    "List all the PNG image files in the \"png\" folder."
   ]
  },
  {
   "cell_type": "code",
   "execution_count": 23,
   "metadata": {},
   "outputs": [
    {
     "data": {
      "text/plain": [
       "['png/img1.png',\n",
       " 'png/img2.png',\n",
       " 'png/img3.png',\n",
       " 'png/img4.png',\n",
       " 'png/img5.png',\n",
       " 'png/img6.png']"
      ]
     },
     "execution_count": 23,
     "metadata": {},
     "output_type": "execute_result"
    }
   ],
   "source": [
    "fs.glob('png/*.png')"
   ]
  },
  {
   "cell_type": "markdown",
   "metadata": {},
   "source": [
    "Download all the PNG image files in the \"png\" folder."
   ]
  },
  {
   "cell_type": "code",
   "execution_count": null,
   "metadata": {},
   "outputs": [],
   "source": []
  },
  {
   "cell_type": "markdown",
   "metadata": {},
   "source": [
    "List all the files in the root directory of the repo, with `detail=True` (i.e. `fs.ls(\"/\", detail=True)`).  What information does it give us about these files?"
   ]
  },
  {
   "cell_type": "code",
   "execution_count": null,
   "metadata": {},
   "outputs": [],
   "source": []
  },
  {
   "cell_type": "markdown",
   "metadata": {},
   "source": [
    "Read and print the text contents of the \"anscombe.csv\" file. What data is inside this file?"
   ]
  },
  {
   "cell_type": "code",
   "execution_count": null,
   "metadata": {},
   "outputs": [],
   "source": []
  },
  {
   "cell_type": "markdown",
   "metadata": {},
   "source": [
    "**DeepLabCut**: Answer the following questions about the DeepLabCut GitHub Repo:   https://github.com/DeepLabCut/DeepLabCut"
   ]
  },
  {
   "cell_type": "markdown",
   "metadata": {},
   "source": [
    "What files are in the root directory of the DeepLabCut repo?"
   ]
  },
  {
   "cell_type": "code",
   "execution_count": null,
   "metadata": {},
   "outputs": [],
   "source": []
  },
  {
   "cell_type": "markdown",
   "metadata": {},
   "source": [
    "How many files or folders are in the \"openfield-Pranav-2018-10-30\" folder, which is in the \"examples\" folder?  (Tip: the `len()` function can be helpful here.)"
   ]
  },
  {
   "cell_type": "code",
   "execution_count": null,
   "metadata": {},
   "outputs": [],
   "source": []
  },
  {
   "cell_type": "markdown",
   "metadata": {},
   "source": [
    "How many files are there, if you include every single file or folder in all the subfolders of the openfield example?"
   ]
  },
  {
   "cell_type": "code",
   "execution_count": null,
   "metadata": {},
   "outputs": [],
   "source": []
  },
  {
   "cell_type": "markdown",
   "metadata": {},
   "source": [
    "Download all the \"labeled-data\" files in the openfield example (`fs.download(recursive=True)`)"
   ]
  },
  {
   "cell_type": "code",
   "execution_count": null,
   "metadata": {},
   "outputs": [],
   "source": []
  }
 ],
 "metadata": {
  "kernelspec": {
   "display_name": "duckdb",
   "language": "python",
   "name": "python3"
  },
  "language_info": {
   "codemirror_mode": {
    "name": "ipython",
    "version": 3
   },
   "file_extension": ".py",
   "mimetype": "text/x-python",
   "name": "python",
   "nbconvert_exporter": "python",
   "pygments_lexer": "ipython3",
   "version": "3.11.0"
  }
 },
 "nbformat": 4,
 "nbformat_minor": 2
}
