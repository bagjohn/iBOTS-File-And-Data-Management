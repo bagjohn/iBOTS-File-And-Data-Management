{
 "cells": [
  {
   "cell_type": "markdown",
   "metadata": {},
   "source": [
    "# Sciebo/NextCloud/Owncloud Folders as a Remote Filesystem\n",
    "\n",
    "Cloud storage services like Sciebo, NextCloud, and Owncloud offer convenient solutions for storing and accessing large datasets, and they are offered free of charge to all researchers in the NRW region! This section focuses on integrating these services into your data analysis pipeline, demonstrating how to interact with these cloud storage platforms programmatically to manage your neuroscience research data efficiently.\n",
    "\n",
    "These systems include a \"WebDAV\" interface for interacting with them as a remote filesystem. In this section, we'll use a `WebdavFileSystem` fsspec class to connect!\n",
    "\n",
    "If you haven't made a Sciebo account yet, here are some links:\n",
    "\n",
    "  - https://uni-koeln.sciebo.de/login\n",
    "\n",
    "  - https://uni-bonn.sciebo.de/login"
   ]
  },
  {
   "cell_type": "markdown",
   "metadata": {},
   "source": [
    "## Read-Only, Public Datasets\n",
    "\n",
    "Accessing public datasets is a common requirement in neuroscience research. In Sciebo, you can make one instantly by creating a \"Public Link\" to a folder. \n",
    "\n",
    "  - **URL**: `https://uni-bonn.sciebo.de/public.php/webdav`, \n",
    "  - **Username**: The code at the end of the public link.\n",
    "  - **Passsword**: Whatever password you made for the link, or an empty string if no password.\n",
    "\n",
    "```python\n",
    "fs = WebdavFileSystem(url, auth=(username, password))\n",
    "```\n",
    "\n",
    "This section provides insights into connecting with read-only, public datasets using WebDAV-based file systems. \n",
    "\n"
   ]
  },
  {
   "cell_type": "markdown",
   "metadata": {},
   "source": [
    "**Exercises**"
   ]
  },
  {
   "cell_type": "code",
   "execution_count": 5,
   "metadata": {},
   "outputs": [],
   "source": [
    "# %pip install webdav4"
   ]
  },
  {
   "cell_type": "code",
   "execution_count": 4,
   "metadata": {},
   "outputs": [],
   "source": [
    "from webdav4.fsspec import WebdavFileSystem"
   ]
  },
  {
   "cell_type": "markdown",
   "metadata": {},
   "source": [
    "List all the files in the root directory of this public Sciebo Link: https://uni-bonn.sciebo.de/s/f81JqGZmEHXxMnB"
   ]
  },
  {
   "cell_type": "code",
   "execution_count": 18,
   "metadata": {},
   "outputs": [
    {
     "data": {
      "text/plain": [
       "<webdav4.fsspec.WebdavFileSystem at 0x7fe5a57314d0>"
      ]
     },
     "execution_count": 18,
     "metadata": {},
     "output_type": "execute_result"
    }
   ],
   "source": [
    "fs = WebdavFileSystem(base_url = \"https://uni-bonn.sciebo.de/public.php/webdav\", auth=('f81JqGZmEHXxMnB', ''))\n",
    "fs"
   ]
  },
  {
   "cell_type": "markdown",
   "metadata": {},
   "source": [
    "What files are in the \"data/final\" folder?"
   ]
  },
  {
   "cell_type": "code",
   "execution_count": 21,
   "metadata": {},
   "outputs": [
    {
     "data": {
      "text/plain": [
       "['data/final/steinmetz_all.csv',\n",
       " 'data/final/steinmetz_all.parquet',\n",
       " 'data/final/steinmetz_summer2017.csv',\n",
       " 'data/final/steinmetz_winter2016.csv',\n",
       " 'data/final/steinmetz_winter2017.csv']"
      ]
     },
     "execution_count": 21,
     "metadata": {},
     "output_type": "execute_result"
    }
   ],
   "source": [
    "fs.glob('data/final/*')"
   ]
  },
  {
   "cell_type": "markdown",
   "metadata": {},
   "source": [
    "How many files are in the \"data/processed\" folder?"
   ]
  },
  {
   "cell_type": "code",
   "execution_count": 24,
   "metadata": {},
   "outputs": [
    {
     "data": {
      "text/plain": [
       "40"
      ]
     },
     "execution_count": 24,
     "metadata": {},
     "output_type": "execute_result"
    }
   ],
   "source": [
    "len(fs.glob('data/processed/*'))"
   ]
  },
  {
   "cell_type": "markdown",
   "metadata": {},
   "source": [
    "## Remote Filesystems that Require Authentication: Basic Secret Handling\n",
    "\n",
    "It's important not to put the text of the username and password inside your code files; it makes it too easy for others to find (including robots), and makes it more difficult to share code with others.  Instead, we should put secrets it in a seperate file that we won't share with others; something that our code file can use.\n",
    "\n",
    "Here, we'll try out a standard approach that works in a wide variety of situations: make a `.env` (\"dot env\") file, which has all the environment variables we want to use.  Because it has a special extension, this file is easy to tell git to ignore, and many tools know how to work with it automatically.\n",
    "\n",
    "\n",
    "| Code | Description\n",
    "| :--  | :-- |\n",
    "| `dotenv.load_dotenv(override=True)` | Put variables in a `.env` file into the operating system's environment variables |\n",
    "| `os.environ[\"MyVar\"]` | Get an environment variable |"
   ]
  },
  {
   "cell_type": "code",
   "execution_count": 2,
   "metadata": {},
   "outputs": [
    {
     "name": "stdout",
     "output_type": "stream",
     "text": [
      "Requirement already satisfied: python-dotenv in /home/panos/anaconda3/envs/dwshop/lib/python3.11/site-packages (1.0.1)\n",
      "Note: you may need to restart the kernel to use updated packages.\n"
     ]
    }
   ],
   "source": [
    "# %pip install python-dotenv"
   ]
  },
  {
   "cell_type": "markdown",
   "metadata": {},
   "source": [
    "**Exercises**\n",
    "\n",
    "\n",
    "**Create a Shared Writeable Folder**\n",
    "\n",
    "Pick one person in your group to create a shared folder for the group to upload data to.  That person should: \n",
    "  - Using Sciebo in the web browser, create a new, empty folder in their Sciebo account.\n",
    "  - Create a new text file in that folder called \"README.txt\", and put a special message inside the file.\n",
    "  - **For each** team member to share the code with:\n",
    "    - Share the folder by creating a \"public link\", giving the \n",
    "        - name of the team member as the link's name, \n",
    "        - permission to download/view/upload/edit, \n",
    "        - a password, \n",
    "        - and set the link to expire in the near-ish future.\n",
    "    - Using the Zoom Chat, give each person the share link and the password.\n",
    "\n"
   ]
  },
  {
   "cell_type": "markdown",
   "metadata": {},
   "source": [
    "\n",
    "**Put the Authentication Data into a .env file** \n",
    "\n",
    "Make a file called `.env` and write the username and password into the file as variables like so:\n",
    "\n",
    "```dotenv\n",
    "URL=https://uni-bonn.sciebo.de/public.php/webdav  # or whatever the correct address is.\n",
    "USERNAME=f81JqGZmEHLxMnB                          # the last part of the share link (e.g. from https://uni-bonn.sciebo.de/s/f81JqGZmEHLxMnB)\n",
    "PASSWORD=mypassword                               # the password\n",
    "```\n"
   ]
  },
  {
   "cell_type": "markdown",
   "metadata": {},
   "source": [
    "**Access your Authentication Data**\n",
    "\n",
    "Use `load_dotenv()` and `os.environ` to extract the authentication into Python:"
   ]
  },
  {
   "cell_type": "code",
   "execution_count": 1,
   "metadata": {},
   "outputs": [
    {
     "name": "stdout",
     "output_type": "stream",
     "text": [
      "Collecting python-dotenv\n",
      "  Downloading python_dotenv-1.0.1-py3-none-any.whl (19 kB)\n",
      "Installing collected packages: python-dotenv\n",
      "Successfully installed python-dotenv-1.0.1\n",
      "Note: you may need to restart the kernel to use updated packages.\n"
     ]
    }
   ],
   "source": [
    "# %pip install python-dotenv"
   ]
  },
  {
   "cell_type": "code",
   "execution_count": null,
   "metadata": {},
   "outputs": [],
   "source": []
  },
  {
   "cell_type": "markdown",
   "metadata": {},
   "source": [
    "**Use Your Authentication Data**"
   ]
  },
  {
   "cell_type": "markdown",
   "metadata": {},
   "source": [
    "Use the `env` variables to connect to the shared remote folder, and list all the files in that folder."
   ]
  },
  {
   "cell_type": "code",
   "execution_count": null,
   "metadata": {},
   "outputs": [],
   "source": []
  },
  {
   "cell_type": "markdown",
   "metadata": {},
   "source": [
    "**Analyze the Data!**"
   ]
  },
  {
   "cell_type": "markdown",
   "metadata": {},
   "source": [
    "Read the text in the README file.  What message is inside the file?"
   ]
  },
  {
   "cell_type": "code",
   "execution_count": null,
   "metadata": {},
   "outputs": [],
   "source": []
  },
  {
   "cell_type": "markdown",
   "metadata": {},
   "source": [
    "Write text to a file named \"\\<your_name\\>.txt\" (e.g. \"emma.txt\"), and put a hello message inside that file, and check that the file was created!"
   ]
  },
  {
   "cell_type": "code",
   "execution_count": null,
   "metadata": {},
   "outputs": [],
   "source": []
  },
  {
   "cell_type": "markdown",
   "metadata": {},
   "source": [
    "Create a folder named \"images\" and upload a picture of your favorite animal to the folder.  Check that it was uploaded properly."
   ]
  },
  {
   "cell_type": "code",
   "execution_count": null,
   "metadata": {},
   "outputs": [],
   "source": []
  },
  {
   "cell_type": "markdown",
   "metadata": {},
   "source": [
    "What did the other people in your group upload?  Take a look, and download their favorite animal images!"
   ]
  },
  {
   "cell_type": "code",
   "execution_count": null,
   "metadata": {},
   "outputs": [],
   "source": []
  },
  {
   "cell_type": "markdown",
   "metadata": {},
   "source": [
    "## Mounting Remote Filesystems as a Network Drive\n",
    "\n",
    "In Windows, Mac, and Linux, you can mount a remote filesystem so you can browse it in your file explorer.  Let's try it with our shared folder!  This doesn't require any code; when mapping the drive, use the same url, username, and password as we did in the previous exercise."
   ]
  },
  {
   "cell_type": "markdown",
   "metadata": {},
   "source": [
    "**Exercise**: Mount one of the WebDAV folders we connected to as a remote drive, using the \"Map Network Drive\" option in your file explorer / finder."
   ]
  },
  {
   "cell_type": "markdown",
   "metadata": {},
   "source": [
    "## (Extra) Other Remote Filesystems\n",
    "\n",
    "The `fsspec` library supports a wide variety of filesystems, including \"SSH\" connections (like those used to access linux servers) and \"SFTP\" connections (like the one provided by the university of Bonn for extra file storage).  No matter where the data is, if you have permission to access it, you can use it!\n",
    "\n",
    "  - Uni-Bonn Data Storage Services:\n",
    "    - https://www.hrz.uni-bonn.de/de/services/datenablage-fileservices\n",
    "    - https://www.hrz.uni-bonn.de/en/all-services/data-storage-fileservices/research-data-infrastructure-fdi\n",
    "  - Uni-Köln Data Storage Services: \n",
    "    - https://fdm.uni-koeln.de/serviceangebot/servicekatalog-1"
   ]
  }
 ],
 "metadata": {
  "kernelspec": {
   "display_name": "duckdb",
   "language": "python",
   "name": "python3"
  },
  "language_info": {
   "codemirror_mode": {
    "name": "ipython",
    "version": 3
   },
   "file_extension": ".py",
   "mimetype": "text/x-python",
   "name": "python",
   "nbconvert_exporter": "python",
   "pygments_lexer": "ipython3",
   "version": "3.11.0"
  }
 },
 "nbformat": 4,
 "nbformat_minor": 2
}
