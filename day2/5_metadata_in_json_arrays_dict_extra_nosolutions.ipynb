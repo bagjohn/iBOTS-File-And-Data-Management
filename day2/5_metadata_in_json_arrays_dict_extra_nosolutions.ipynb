{
 "cells": [
  {
   "cell_type": "code",
   "execution_count": 87,
   "metadata": {},
   "outputs": [],
   "source": [
    "import json\n",
    "from pathlib import Path\n",
    "import pandas as pd"
   ]
  },
  {
   "cell_type": "markdown",
   "metadata": {},
   "source": [
    "# Writing and Reading Metadata with Serialiazed with JSON\n",
    "\n",
    "\n",
    "JSON (JavaScript Object Notation) is a widely-used format for data exchange, valued for its simplicity and readability. In neuroscience, JSON's structured format is ideal for organizing complex metadata. It supports clear data representation, crucial for sharing and analyzing experimental information. This compatibility with diverse programming languages enhances its utility in global research collaboration, streamlining data management in neuroscience.\n",
    "\n",
    "This table covers the basic types of values that can be represented in JSON, providing a quick reference for understanding and using JSON data types in various applications:\n",
    "\n",
    "| JSON Type    | Description                               | Example                |\n",
    "|--------------|-------------------------------------------|------------------------|\n",
    "| String       | Textual data enclosed in quotes           | `\"exampleString\"`      |\n",
    "| Number       | Integer or floating-point number          | `42`, `3.14`           |\n",
    "| Object       | Collection of key-value pairs             | `{\"key\": \"value\"}`     |\n",
    "| Array        | Ordered list of values                    | `[1, \"two\", 3.0]`      |\n",
    "| Boolean      | True or false value                       | `true`, `false`        |\n",
    "| Null         | Represents a null or non-existent value   | `null`                 |\n",
    "\n"
   ]
  },
  {
   "cell_type": "markdown",
   "metadata": {},
   "source": [
    "## The Built-In `json` Library\n",
    "\n",
    "| Code | Description |\n",
    "| :-- | :-- |\n",
    "| **Reading JSON** |  |\n",
    "| **`text = pathlib.Path('myfile.json').read_text()`** | Reads a text file to a string. |\n",
    "| **`data = json.loads(text)`** | Converts JSON-formtted text to a Python code data structure |\n",
    "| --- | --- |\n",
    "| **Writing JSON** | |\n",
    "| ** **`text = json.dumps(data, indent=3)`** | Convert a Python code data structure to a text string |\n",
    "| **`pathlib.Path(\"myfile.json\").write_text(text)`** | Write the text to a file |\n",
    "| **`pathlib.Path(\"data/myfile.json\").parent`** | Get the parent directory of \"myfile.json\" (in this case, \"data\") |\n",
    "| **`pathlib.Path(\"data\").mkdir(exist_ok=True, parents=True)`** | Create a folder at the path, and all of its parent folders, if necessary. | \n",
    "\n"
   ]
  },
  {
   "cell_type": "markdown",
   "metadata": {},
   "source": [
    "**Exercises**"
   ]
  },
  {
   "cell_type": "code",
   "execution_count": 12,
   "metadata": {},
   "outputs": [],
   "source": [
    "import json\n",
    "from pathlib import Path"
   ]
  },
  {
   "cell_type": "markdown",
   "metadata": {},
   "source": [
    "**Example**: Translate the following sentence to JSON-formatted text, and use the JSON parser to validate it (i.e. check that it is formatted correctly): *The researcher, Sam Vimes, ran Session Number 3 with Subject XTR2 on February 4th, 2022.*."
   ]
  },
  {
   "cell_type": "code",
   "execution_count": 43,
   "metadata": {},
   "outputs": [
    {
     "data": {
      "text/plain": [
       "{'Researcher': 'Sam Vimes',\n",
       " 'Session': 3,\n",
       " 'Subject': 'XTR2',\n",
       " 'Date': '2022-02-04'}"
      ]
     },
     "execution_count": 43,
     "metadata": {},
     "output_type": "execute_result"
    }
   ],
   "source": [
    "text = '{\"Researcher\": \"Sam Vimes\", \"Session\": 3, \"Subject\": \"XTR2\", \"Date\": \"2022-02-04\"}'\n",
    "json.loads(text)"
   ]
  },
  {
   "cell_type": "markdown",
   "metadata": {},
   "source": [
    "**Example**: Save this data to an appropriately-named file."
   ]
  },
  {
   "cell_type": "code",
   "execution_count": 44,
   "metadata": {},
   "outputs": [
    {
     "data": {
      "text/plain": [
       "82"
      ]
     },
     "execution_count": 44,
     "metadata": {},
     "output_type": "execute_result"
    }
   ],
   "source": [
    "path = Path(\"data1/session.json\")\n",
    "path.parent.mkdir(exist_ok=True, parents=True)\n",
    "path.write_text(text)"
   ]
  },
  {
   "cell_type": "markdown",
   "metadata": {},
   "source": [
    "**Example**: Read the data from the file back into a Python data structure."
   ]
  },
  {
   "cell_type": "code",
   "execution_count": 45,
   "metadata": {},
   "outputs": [
    {
     "data": {
      "text/plain": [
       "{'Researcher': 'Sam Vimes',\n",
       " 'Session': 3,\n",
       " 'Subject': 'XTR2',\n",
       " 'Date': '2022-02-04'}"
      ]
     },
     "execution_count": 45,
     "metadata": {},
     "output_type": "execute_result"
    }
   ],
   "source": [
    "data = json.loads(path.read_text())\n",
    "data"
   ]
  },
  {
   "cell_type": "markdown",
   "metadata": {},
   "source": [
    "---"
   ]
  },
  {
   "cell_type": "markdown",
   "metadata": {},
   "source": [
    "Translate the following sentence to JSON-formatted text, and use the JSON parser to validate it (i.e. check that it is formatted correctly): *The EEG amplifier's low-pass filter was set to 200 Hz, its high-pass filter to 0.2 Hz, and its notch filter (which was set to 50 Hz) was turned on.*\n"
   ]
  },
  {
   "cell_type": "code",
   "execution_count": null,
   "metadata": {},
   "outputs": [],
   "source": []
  },
  {
   "cell_type": "markdown",
   "metadata": {},
   "source": [
    "Save this data to an appropriately-named file."
   ]
  },
  {
   "cell_type": "code",
   "execution_count": null,
   "metadata": {},
   "outputs": [],
   "source": []
  },
  {
   "cell_type": "markdown",
   "metadata": {},
   "source": [
    "Read the data from the file back into a Python data structure."
   ]
  },
  {
   "cell_type": "code",
   "execution_count": null,
   "metadata": {},
   "outputs": [],
   "source": []
  },
  {
   "cell_type": "markdown",
   "metadata": {},
   "source": [
    "---"
   ]
  },
  {
   "cell_type": "markdown",
   "metadata": {},
   "source": [
    "Translate the following sentence to a Python data structure, then use the `json` library to convert it to JSON-formatted text: *Three electrodes were implanted into subject \"Pinky\", a Sprague-Dawley rat: one in the hippocampus (channel 3), one in the visual cortex (channel 4), and one in the motor cortex (channel 6).*"
   ]
  },
  {
   "cell_type": "code",
   "execution_count": 2,
   "metadata": {},
   "outputs": [],
   "source": [
    "import json"
   ]
  },
  {
   "cell_type": "code",
   "execution_count": 6,
   "metadata": {},
   "outputs": [
    {
     "data": {
      "text/plain": [
       "{'subject': 'Pinky',\n",
       " 'strain': 'Sprague-Dawley',\n",
       " 'electrodes': [{'channel': 4, 'location': 'hippocampus'},\n",
       "  {'channel': 5, 'location': 'visual cortex'},\n",
       "  {'channel': 6, 'location': 'motor cortex'}]}"
      ]
     },
     "execution_count": 6,
     "metadata": {},
     "output_type": "execute_result"
    }
   ],
   "source": [
    "text = \"\"\"\n",
    "{\n",
    "    \"subject\": \"Pinky\",\n",
    "    \"strain\": \"Sprague-Dawley\",\n",
    "    \"electrodes\": \n",
    "        [\n",
    "            {\n",
    "                \"channel\": 4,\n",
    "                \"location\": \"hippocampus\"\n",
    "            },\n",
    "            {\n",
    "                \"channel\": 5,\n",
    "                \"location\": \"visual cortex\"\n",
    "            },\n",
    "            {\n",
    "                \"channel\": 6,\n",
    "                \"location\": \"motor cortex\"\n",
    "            }\n",
    "        ]\n",
    "}\n",
    " \n",
    "\"\"\"\n",
    "\n",
    "data = json.loads(text)\n",
    "data"
   ]
  },
  {
   "cell_type": "code",
   "execution_count": 7,
   "metadata": {},
   "outputs": [
    {
     "name": "stderr",
     "output_type": "stream",
     "text": [
      "C:\\Users\\NickDG\\AppData\\Local\\Temp\\ipykernel_22052\\4080736814.py:1: DeprecationWarning: \n",
      "Pyarrow will become a required dependency of pandas in the next major release of pandas (pandas 3.0),\n",
      "(to allow more performant data types, such as the Arrow string type, and better interoperability with other libraries)\n",
      "but was not found to be installed on your system.\n",
      "If this would cause problems for you,\n",
      "please provide us feedback at https://github.com/pandas-dev/pandas/issues/54466\n",
      "        \n",
      "  import pandas as pd\n"
     ]
    }
   ],
   "source": [
    "import pandas as pd"
   ]
  },
  {
   "cell_type": "code",
   "execution_count": 8,
   "metadata": {},
   "outputs": [
    {
     "data": {
      "text/html": [
       "<div>\n",
       "<style scoped>\n",
       "    .dataframe tbody tr th:only-of-type {\n",
       "        vertical-align: middle;\n",
       "    }\n",
       "\n",
       "    .dataframe tbody tr th {\n",
       "        vertical-align: top;\n",
       "    }\n",
       "\n",
       "    .dataframe thead th {\n",
       "        text-align: right;\n",
       "    }\n",
       "</style>\n",
       "<table border=\"1\" class=\"dataframe\">\n",
       "  <thead>\n",
       "    <tr style=\"text-align: right;\">\n",
       "      <th></th>\n",
       "      <th>subject</th>\n",
       "      <th>strain</th>\n",
       "      <th>electrodes</th>\n",
       "    </tr>\n",
       "  </thead>\n",
       "  <tbody>\n",
       "    <tr>\n",
       "      <th>0</th>\n",
       "      <td>Pinky</td>\n",
       "      <td>Sprague-Dawley</td>\n",
       "      <td>[{'channel': 4, 'location': 'hippocampus'}, {'...</td>\n",
       "    </tr>\n",
       "  </tbody>\n",
       "</table>\n",
       "</div>"
      ],
      "text/plain": [
       "  subject          strain                                         electrodes\n",
       "0   Pinky  Sprague-Dawley  [{'channel': 4, 'location': 'hippocampus'}, {'..."
      ]
     },
     "execution_count": 8,
     "metadata": {},
     "output_type": "execute_result"
    }
   ],
   "source": [
    "pd.DataFrame([data])"
   ]
  },
  {
   "cell_type": "markdown",
   "metadata": {},
   "source": [
    "Save the json data to an appropriately-named file."
   ]
  },
  {
   "cell_type": "code",
   "execution_count": null,
   "metadata": {},
   "outputs": [],
   "source": []
  },
  {
   "cell_type": "markdown",
   "metadata": {},
   "source": [
    "Read the file back into a Python data structure."
   ]
  },
  {
   "cell_type": "code",
   "execution_count": null,
   "metadata": {},
   "outputs": [],
   "source": []
  },
  {
   "cell_type": "markdown",
   "metadata": {},
   "source": [
    "---"
   ]
  },
  {
   "cell_type": "markdown",
   "metadata": {},
   "source": [
    "Translate the following sentence to a Python data structure and save it to a JSON file: *\"The image has a width of 1080 pixels, a height of 720 pixels, saved data in RGB format. The camera settings had an exposure time of 8 milliseconds, an aperture of 2.8 stops, and an ISO setting of 100.\"*"
   ]
  },
  {
   "cell_type": "code",
   "execution_count": null,
   "metadata": {},
   "outputs": [],
   "source": []
  },
  {
   "cell_type": "markdown",
   "metadata": {},
   "source": [
    "Read the file back to check that it was saved correctly."
   ]
  },
  {
   "cell_type": "code",
   "execution_count": null,
   "metadata": {},
   "outputs": [],
   "source": []
  },
  {
   "cell_type": "markdown",
   "metadata": {},
   "source": [
    "---"
   ]
  },
  {
   "cell_type": "markdown",
   "metadata": {},
   "source": [
    "Run the following code to generate the `image_data` folder, which contains a session's image acquisition data parameters:"
   ]
  },
  {
   "cell_type": "code",
   "execution_count": 1,
   "metadata": {},
   "outputs": [],
   "source": [
    "import json, random\n",
    "from pathlib import Path\n",
    "\n",
    "random.seed(42)  # Ensures all the randomly-generated data is consisten across runs and computers\n",
    "\n",
    "for _ in range(10):\n",
    "\n",
    "    # Generate random parameters\n",
    "    params = {\n",
    "        \"exposure_time\": random.choice([100, 200, 300]),  # milliseconds\n",
    "        \"laser_power\": random.choice([5, 10, 15]),  # milliwatts\n",
    "        \"num_frames\": random.randint(200, 400),\n",
    "        \"frame_rate\": random.choice([10, 20, 30]),  # Hz\n",
    "        \"region_of_interest\": random.choice([\"ROI1\", \"ROI2\", \"ROI3\"]),\n",
    "    }\n",
    "    if random.random() > 0.5:\n",
    "        params['start_time'] = random.randint(1, 5000)  # seconds\n",
    "\n",
    "    # Write the data to a json file\n",
    "    session_num = random.randint(1, 300)\n",
    "    experimenter = random.choice([\"Sophie\", \"Florian\"])\n",
    "    path = Path(f\"image_data/{experimenter}_{session_num}/session.json\")\n",
    "    path.parent.mkdir(parents=True, exist_ok=True)\n",
    "    json_text = json.dumps(params, indent=3)\n",
    "    path.write_text(json_text)\n"
   ]
  },
  {
   "cell_type": "markdown",
   "metadata": {},
   "source": [
    "Read and Parse the JSON-formatted data in session 72, to get the exposure time."
   ]
  },
  {
   "cell_type": "code",
   "execution_count": 6,
   "metadata": {},
   "outputs": [
    {
     "data": {
      "text/plain": [
       "'/home/panos/Science/git_repos/iBOTS-File-And-Data-Management/day2'"
      ]
     },
     "execution_count": 6,
     "metadata": {},
     "output_type": "execute_result"
    }
   ],
   "source": [
    "import os\n",
    "os.getcwd()"
   ]
  },
  {
   "cell_type": "code",
   "execution_count": 5,
   "metadata": {},
   "outputs": [
    {
     "data": {
      "text/plain": [
       "{'exposure_time': 300,\n",
       " 'laser_power': 5,\n",
       " 'num_frames': 206,\n",
       " 'frame_rate': 30,\n",
       " 'region_of_interest': 'ROI2'}"
      ]
     },
     "execution_count": 5,
     "metadata": {},
     "output_type": "execute_result"
    }
   ],
   "source": [
    "x=Path('image_data/Sophie_72/session.json').read_text()\n",
    "json.loads(x)"
   ]
  },
  {
   "cell_type": "markdown",
   "metadata": {},
   "source": [
    "Read and Parse the JSON-formatted data in session 177, to get the frame rate."
   ]
  },
  {
   "cell_type": "code",
   "execution_count": 12,
   "metadata": {},
   "outputs": [
    {
     "data": {
      "text/plain": [
       "{'exposure_time': 100,\n",
       " 'laser_power': 10,\n",
       " 'num_frames': 226,\n",
       " 'frame_rate': 10,\n",
       " 'region_of_interest': 'ROI2'}"
      ]
     },
     "execution_count": 12,
     "metadata": {},
     "output_type": "execute_result"
    }
   ],
   "source": [
    "#x=Path('image_data/Florian_177/session.json').read_text()\n",
    "path=list(Path().glob('image_data/*177/session.json'))[0]\n",
    "path\n",
    "x=path.read_text()\n",
    "json.loads(x)"
   ]
  },
  {
   "cell_type": "markdown",
   "metadata": {},
   "source": [
    "Use `list(Path().glob(pattern))` to list all the the JSON session files in the `image_data` folder (tip: use the wildcard \"*\" whereever there are variable parts in the filename)"
   ]
  },
  {
   "cell_type": "code",
   "execution_count": 13,
   "metadata": {},
   "outputs": [
    {
     "data": {
      "text/plain": [
       "[PosixPath('image_data/Sophie_16/session.json'),\n",
       " PosixPath('image_data/Sophie_215/session.json'),\n",
       " PosixPath('image_data/Florian_177/session.json'),\n",
       " PosixPath('image_data/Sophie_72/session.json'),\n",
       " PosixPath('image_data/Sophie_167/session.json'),\n",
       " PosixPath('image_data/Sophie_143/session.json'),\n",
       " PosixPath('image_data/Florian_41/session.json'),\n",
       " PosixPath('image_data/Sophie_88/session.json'),\n",
       " PosixPath('image_data/Sophie_187/session.json'),\n",
       " PosixPath('image_data/Florian_117/session.json')]"
      ]
     },
     "execution_count": 13,
     "metadata": {},
     "output_type": "execute_result"
    }
   ],
   "source": [
    "list(Path().glob('image_data/**/*.json'))"
   ]
  },
  {
   "cell_type": "markdown",
   "metadata": {},
   "source": [
    "Read and parse all the `session.json` files and put them into a Pandas DataFrame. Here is a code template to help you get started:\n",
    "\n",
    "```python\n",
    "sessions = []\n",
    "for path in Path().glob(\"image_data/Sophie_16/session.json\"):\n",
    "    text = path.read_text()\n",
    "    session = {\"A\": 3}\n",
    "    sessions.append(session)\n",
    "\n",
    "df = pd.DataFrame(sessions)\n",
    "df\n",
    "```"
   ]
  },
  {
   "cell_type": "code",
   "execution_count": 20,
   "metadata": {},
   "outputs": [
    {
     "data": {
      "text/html": [
       "<div>\n",
       "<style scoped>\n",
       "    .dataframe tbody tr th:only-of-type {\n",
       "        vertical-align: middle;\n",
       "    }\n",
       "\n",
       "    .dataframe tbody tr th {\n",
       "        vertical-align: top;\n",
       "    }\n",
       "\n",
       "    .dataframe thead th {\n",
       "        text-align: right;\n",
       "    }\n",
       "</style>\n",
       "<table border=\"1\" class=\"dataframe\">\n",
       "  <thead>\n",
       "    <tr style=\"text-align: right;\">\n",
       "      <th></th>\n",
       "      <th>exposure_time</th>\n",
       "      <th>laser_power</th>\n",
       "      <th>num_frames</th>\n",
       "      <th>frame_rate</th>\n",
       "      <th>region_of_interest</th>\n",
       "      <th>experimenter</th>\n",
       "      <th>session_num</th>\n",
       "      <th>start_time</th>\n",
       "    </tr>\n",
       "  </thead>\n",
       "  <tbody>\n",
       "    <tr>\n",
       "      <th>0</th>\n",
       "      <td>300</td>\n",
       "      <td>15</td>\n",
       "      <td>339</td>\n",
       "      <td>10</td>\n",
       "      <td>ROI3</td>\n",
       "      <td>Sophie</td>\n",
       "      <td>16</td>\n",
       "      <td>NaN</td>\n",
       "    </tr>\n",
       "    <tr>\n",
       "      <th>1</th>\n",
       "      <td>100</td>\n",
       "      <td>5</td>\n",
       "      <td>329</td>\n",
       "      <td>30</td>\n",
       "      <td>ROI1</td>\n",
       "      <td>Sophie</td>\n",
       "      <td>215</td>\n",
       "      <td>4465.0</td>\n",
       "    </tr>\n",
       "    <tr>\n",
       "      <th>2</th>\n",
       "      <td>100</td>\n",
       "      <td>10</td>\n",
       "      <td>226</td>\n",
       "      <td>10</td>\n",
       "      <td>ROI2</td>\n",
       "      <td>Florian</td>\n",
       "      <td>177</td>\n",
       "      <td>NaN</td>\n",
       "    </tr>\n",
       "    <tr>\n",
       "      <th>3</th>\n",
       "      <td>300</td>\n",
       "      <td>5</td>\n",
       "      <td>206</td>\n",
       "      <td>30</td>\n",
       "      <td>ROI2</td>\n",
       "      <td>Sophie</td>\n",
       "      <td>72</td>\n",
       "      <td>NaN</td>\n",
       "    </tr>\n",
       "    <tr>\n",
       "      <th>4</th>\n",
       "      <td>100</td>\n",
       "      <td>10</td>\n",
       "      <td>297</td>\n",
       "      <td>20</td>\n",
       "      <td>ROI3</td>\n",
       "      <td>Sophie</td>\n",
       "      <td>167</td>\n",
       "      <td>1800.0</td>\n",
       "    </tr>\n",
       "    <tr>\n",
       "      <th>5</th>\n",
       "      <td>200</td>\n",
       "      <td>15</td>\n",
       "      <td>271</td>\n",
       "      <td>10</td>\n",
       "      <td>ROI1</td>\n",
       "      <td>Sophie</td>\n",
       "      <td>143</td>\n",
       "      <td>2788.0</td>\n",
       "    </tr>\n",
       "    <tr>\n",
       "      <th>6</th>\n",
       "      <td>100</td>\n",
       "      <td>15</td>\n",
       "      <td>317</td>\n",
       "      <td>30</td>\n",
       "      <td>ROI1</td>\n",
       "      <td>Florian</td>\n",
       "      <td>41</td>\n",
       "      <td>3101.0</td>\n",
       "    </tr>\n",
       "    <tr>\n",
       "      <th>7</th>\n",
       "      <td>200</td>\n",
       "      <td>10</td>\n",
       "      <td>253</td>\n",
       "      <td>30</td>\n",
       "      <td>ROI2</td>\n",
       "      <td>Sophie</td>\n",
       "      <td>88</td>\n",
       "      <td>585.0</td>\n",
       "    </tr>\n",
       "    <tr>\n",
       "      <th>8</th>\n",
       "      <td>100</td>\n",
       "      <td>5</td>\n",
       "      <td>225</td>\n",
       "      <td>20</td>\n",
       "      <td>ROI2</td>\n",
       "      <td>Sophie</td>\n",
       "      <td>187</td>\n",
       "      <td>NaN</td>\n",
       "    </tr>\n",
       "    <tr>\n",
       "      <th>9</th>\n",
       "      <td>300</td>\n",
       "      <td>15</td>\n",
       "      <td>292</td>\n",
       "      <td>30</td>\n",
       "      <td>ROI1</td>\n",
       "      <td>Florian</td>\n",
       "      <td>117</td>\n",
       "      <td>376.0</td>\n",
       "    </tr>\n",
       "  </tbody>\n",
       "</table>\n",
       "</div>"
      ],
      "text/plain": [
       "   exposure_time  laser_power  num_frames  frame_rate region_of_interest  \\\n",
       "0            300           15         339          10               ROI3   \n",
       "1            100            5         329          30               ROI1   \n",
       "2            100           10         226          10               ROI2   \n",
       "3            300            5         206          30               ROI2   \n",
       "4            100           10         297          20               ROI3   \n",
       "5            200           15         271          10               ROI1   \n",
       "6            100           15         317          30               ROI1   \n",
       "7            200           10         253          30               ROI2   \n",
       "8            100            5         225          20               ROI2   \n",
       "9            300           15         292          30               ROI1   \n",
       "\n",
       "  experimenter session_num  start_time  \n",
       "0       Sophie          16         NaN  \n",
       "1       Sophie         215      4465.0  \n",
       "2      Florian         177         NaN  \n",
       "3       Sophie          72         NaN  \n",
       "4       Sophie         167      1800.0  \n",
       "5       Sophie         143      2788.0  \n",
       "6      Florian          41      3101.0  \n",
       "7       Sophie          88       585.0  \n",
       "8       Sophie         187         NaN  \n",
       "9      Florian         117       376.0  "
      ]
     },
     "execution_count": 20,
     "metadata": {},
     "output_type": "execute_result"
    }
   ],
   "source": [
    "import pandas as pd\n",
    "\n",
    "paths=list(Path().glob('image_data/**/*.json'))\n",
    "sessions = []\n",
    "for path in paths:\n",
    "    name, num = path.parent.name.split('_')\n",
    "    #print(vars)\n",
    "    #name, num = \n",
    "    text = path.read_text()\n",
    "    #session = {\"A\": 3}\n",
    "    session=json.loads(text)\n",
    "    session['experimenter']=name\n",
    "    session['session_num']=num\n",
    "    sessions.append(session)\n",
    "    #break\n",
    "\n",
    "df = pd.DataFrame(sessions)\n",
    "df\n",
    "\n",
    "\n"
   ]
  },
  {
   "cell_type": "markdown",
   "metadata": {},
   "source": [
    "Read and parse all the `session.json` files and put them into a Pandas DataFrame."
   ]
  },
  {
   "cell_type": "code",
   "execution_count": null,
   "metadata": {},
   "outputs": [],
   "source": []
  },
  {
   "cell_type": "markdown",
   "metadata": {},
   "source": [
    "Read and parse all the `session.json` files and put them into a Pandas DataFrame, this time including the experimenter name, the session ID from the parent folder's name (tip: `Path().parent.name`), and the path to the parent folder's name for later analysis (e.g. to load up other data files from that session). "
   ]
  },
  {
   "cell_type": "code",
   "execution_count": null,
   "metadata": {},
   "outputs": [],
   "source": []
  },
  {
   "cell_type": "markdown",
   "metadata": {},
   "source": []
  }
 ],
 "metadata": {
  "kernelspec": {
   "display_name": "duckdb",
   "language": "python",
   "name": "python3"
  },
  "language_info": {
   "codemirror_mode": {
    "name": "ipython",
    "version": 3
   },
   "file_extension": ".py",
   "mimetype": "text/x-python",
   "name": "python",
   "nbconvert_exporter": "python",
   "pygments_lexer": "ipython3",
   "version": "3.11.0"
  }
 },
 "nbformat": 4,
 "nbformat_minor": 2
}
